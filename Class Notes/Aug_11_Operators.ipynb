{
  "nbformat": 4,
  "nbformat_minor": 0,
  "metadata": {
    "colab": {
      "provenance": []
    },
    "kernelspec": {
      "name": "python3",
      "display_name": "Python 3"
    },
    "language_info": {
      "name": "python"
    }
  },
  "cells": [
    {
      "cell_type": "markdown",
      "source": [
        "#**Friday August 11, 2023**"
      ],
      "metadata": {
        "id": "cR-ThuAQEeSF"
      }
    },
    {
      "cell_type": "code",
      "source": [
        "# Basic Python Operators"
      ],
      "metadata": {
        "id": "oAk8xUheEkMe"
      },
      "execution_count": null,
      "outputs": []
    },
    {
      "cell_type": "code",
      "source": [
        "# arithmetic operators\n",
        "\n",
        "a = 100\n",
        "b = 20\n",
        "\n",
        "print(a + b)\n",
        "print(a - b)\n",
        "print(a * b)\n",
        "print(a / b)\n",
        "print(a % b) # remainder\n",
        "print(a // b) # quotient\n",
        "print(a**b) # exponential"
      ],
      "metadata": {
        "colab": {
          "base_uri": "https://localhost:8080/"
        },
        "id": "TyoxREIyEoYU",
        "outputId": "dac57c4f-4114-4d6f-cebd-697d590baf56"
      },
      "execution_count": null,
      "outputs": [
        {
          "output_type": "stream",
          "name": "stdout",
          "text": [
            "120\n",
            "80\n",
            "2000\n",
            "5.0\n",
            "0\n",
            "5\n",
            "10000000000000000000000000000000000000000\n"
          ]
        },
        {
          "output_type": "execute_result",
          "data": {
            "text/plain": [
              "10000000000000000000000000000000000000000"
            ]
          },
          "metadata": {},
          "execution_count": 8
        }
      ]
    },
    {
      "cell_type": "code",
      "source": [
        "# comparision operators\n",
        "\n",
        "a = 100\n",
        "b = 20\n",
        "\n",
        "print(a == b)\n",
        "print(a != b)\n",
        "print(a > b)\n",
        "print(a < b)\n",
        "print(a >= b)\n",
        "print(a <= b)"
      ],
      "metadata": {
        "colab": {
          "base_uri": "https://localhost:8080/"
        },
        "id": "ZizujAFsF1fR",
        "outputId": "342b422b-5ad6-4976-b54e-a6ff5d6f5697"
      },
      "execution_count": null,
      "outputs": [
        {
          "output_type": "stream",
          "name": "stdout",
          "text": [
            "False\n",
            "True\n",
            "True\n",
            "False\n",
            "True\n",
            "False\n"
          ]
        }
      ]
    },
    {
      "cell_type": "code",
      "source": [
        "# Assignment Operators\n",
        "\n",
        "# a = a + b => a += b\n",
        "\n",
        "a = 100\n",
        "b = 20\n",
        "\n",
        "a += b\n",
        "print(a, b)\n",
        "\n",
        "\n",
        "\n",
        "a = 100\n",
        "b = 20\n",
        "\n",
        "a -= b\n",
        "print(a, b)\n",
        "\n",
        "\n",
        "\n",
        "a = 100\n",
        "b = 20\n",
        "\n",
        "a *= b\n",
        "print(a, b)\n",
        "\n",
        "\n",
        "a = 100\n",
        "b = 20\n",
        "\n",
        "a /= b\n",
        "print(a, b)\n",
        "\n",
        "\n",
        "a = 100\n",
        "b = 20\n",
        "\n",
        "a %= b\n",
        "print(a, b)\n",
        "\n",
        "\n",
        "a = 100\n",
        "b = 20\n",
        "\n",
        "a //= b\n",
        "print(a, b)\n",
        "\n",
        "\n",
        "a = 100\n",
        "b = 2\n",
        "\n",
        "a **= b\n",
        "print(a, b)"
      ],
      "metadata": {
        "colab": {
          "base_uri": "https://localhost:8080/"
        },
        "id": "TlbssXjjG8UT",
        "outputId": "b0ba43a4-68e0-428d-ca6f-2ec79958aae7"
      },
      "execution_count": null,
      "outputs": [
        {
          "output_type": "stream",
          "name": "stdout",
          "text": [
            "120 20\n",
            "80 20\n",
            "2000 20\n",
            "5.0 20\n",
            "0 20\n",
            "5 20\n",
            "10000 2\n"
          ]
        }
      ]
    },
    {
      "cell_type": "code",
      "source": [
        "# Python Logical Operators\n",
        "\n",
        "\n",
        "a = 100\n",
        "b = 20\n",
        "\n",
        "\n",
        "print(a > 80 and b < 80)\n",
        "print(a == 80 and b < 80)\n",
        "print(a < 80 and b < 80)\n",
        "print(a > 80 and b > 80)\n",
        "\n",
        "\n",
        "print(a > 80 or b < 80)\n",
        "print(a == 80 or b < 80)\n",
        "print(a < 80 or b < 80)\n",
        "print(a < 80 or b > 80)"
      ],
      "metadata": {
        "colab": {
          "base_uri": "https://localhost:8080/"
        },
        "id": "6Cqt8dcFLAVx",
        "outputId": "b12a90ad-ca56-43e8-f424-543b16ed633b"
      },
      "execution_count": null,
      "outputs": [
        {
          "output_type": "stream",
          "name": "stdout",
          "text": [
            "True\n",
            "False\n",
            "False\n",
            "False\n",
            "True\n",
            "True\n",
            "True\n",
            "False\n"
          ]
        }
      ]
    },
    {
      "cell_type": "code",
      "source": [
        "# Python Membership Operators\n",
        "\n",
        "a = 100\n",
        "b = [100,200,300,400,500]\n",
        "\n",
        "a in b\n",
        "\n",
        "# Python Membership Operators\n",
        "\n",
        "a = 600\n",
        "b = [100,200,300,400,500]\n",
        "\n",
        "a in b\n",
        "\n",
        "# Python Membership Operators\n",
        "\n",
        "a = 100\n",
        "b = [100,200,300,400,500]\n",
        "\n",
        "a not in b\n",
        "\n",
        "# Python Membership Operators\n",
        "\n",
        "a = 600\n",
        "b = [100,200,300,400,500]\n",
        "\n",
        "a not in b\n"
      ],
      "metadata": {
        "colab": {
          "base_uri": "https://localhost:8080/"
        },
        "id": "XguaSZj4MkfU",
        "outputId": "e0a5ba14-486b-4b68-f356-bf2068520568"
      },
      "execution_count": null,
      "outputs": [
        {
          "output_type": "execute_result",
          "data": {
            "text/plain": [
              "True"
            ]
          },
          "metadata": {},
          "execution_count": 35
        }
      ]
    },
    {
      "cell_type": "code",
      "source": [
        "# Python Identity Operators\n",
        "\n",
        "\n",
        "a = 100\n",
        "b = 20\n",
        "\n",
        "a is b\n",
        "a is not b\n",
        "\n",
        "a = 100\n",
        "b = 100\n",
        "\n",
        "a is b\n",
        "a is not b"
      ],
      "metadata": {
        "colab": {
          "base_uri": "https://localhost:8080/"
        },
        "id": "V1SnanMGNewS",
        "outputId": "d2450362-b176-447d-be7d-1c9a8e6f8f7e"
      },
      "execution_count": null,
      "outputs": [
        {
          "output_type": "execute_result",
          "data": {
            "text/plain": [
              "False"
            ]
          },
          "metadata": {},
          "execution_count": 38
        }
      ]
    }
  ]
}