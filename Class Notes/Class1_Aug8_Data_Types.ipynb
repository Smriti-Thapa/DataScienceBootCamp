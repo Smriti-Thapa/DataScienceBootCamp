{
  "nbformat": 4,
  "nbformat_minor": 0,
  "metadata": {
    "colab": {
      "provenance": []
    },
    "kernelspec": {
      "name": "python3",
      "display_name": "Python 3"
    },
    "language_info": {
      "name": "python"
    }
  },
  "cells": [
    {
      "cell_type": "code",
      "execution_count": null,
      "metadata": {
        "colab": {
          "base_uri": "https://localhost:8080/",
          "height": 141
        },
        "id": "hs3WAtIAAY9T",
        "outputId": "ac64c281-b523-47ef-b427-287c132aa013"
      },
      "outputs": [
        {
          "output_type": "error",
          "ename": "SyntaxError",
          "evalue": "ignored",
          "traceback": [
            "\u001b[0;36m  File \u001b[0;32m\"<ipython-input-7-b0c38a3753ca>\"\u001b[0;36m, line \u001b[0;32m9\u001b[0m\n\u001b[0;31m    last@name = 'Peter'\u001b[0m\n\u001b[0m    ^\u001b[0m\n\u001b[0;31mSyntaxError\u001b[0m\u001b[0;31m:\u001b[0m cannot assign to expression here. Maybe you meant '==' instead of '='?\n"
          ]
        }
      ],
      "source": [
        "# valid variables and invalid variables\n",
        "\n",
        "name = 'Anuurag'\n",
        "# 12gender = 'M'\n",
        "# @address = '123 Park Street'\n",
        "_fname = 'Umesh'\n",
        "gen12der = 'M'\n",
        "print(name, _fname, gen12der)\n",
        "last@name = 'Peter'"
      ]
    },
    {
      "cell_type": "markdown",
      "source": [
        "#**Wednesday August 09, 2023**"
      ],
      "metadata": {
        "id": "J3Qzl1juv_0a"
      }
    },
    {
      "cell_type": "markdown",
      "source": [
        "#**Python Data Type**\n",
        "\n",
        "      1. Standard Data Type\n",
        "        1. Numbers\n",
        "          1. Integer\n",
        "          2. Float\n",
        "          3. Complex\n",
        "        2. Boolean\n",
        "        3. String\n",
        "      2. Data Structure Data Type\n",
        "        1. List\n",
        "        2. Tuple\n",
        "        3. Set\n",
        "        4. Dictionary"
      ],
      "metadata": {
        "id": "aE5H8rQIwQW7"
      }
    },
    {
      "cell_type": "code",
      "source": [
        "# Integer : Any whole number (+ve or -ve) is called as integer\n",
        "\n",
        "int1 = 1947\n",
        "print(int1)\n",
        "print(type(int1))\n",
        "\n",
        "int1 = -1947\n",
        "print(int1)\n",
        "print(type(int1))"
      ],
      "metadata": {
        "colab": {
          "base_uri": "https://localhost:8080/"
        },
        "id": "059l3Yw1v_md",
        "outputId": "7b6c00ec-7078-4a59-fe6a-87756ed8f8c2"
      },
      "execution_count": null,
      "outputs": [
        {
          "output_type": "stream",
          "name": "stdout",
          "text": [
            "1947\n",
            "<class 'int'>\n",
            "-1947\n",
            "<class 'int'>\n"
          ]
        }
      ]
    },
    {
      "cell_type": "code",
      "source": [
        "# Float : Any combination of whole number and fractional number (+ve or -ve) is called as float.\n",
        "\n",
        "flt1 = 3.1415\n",
        "print(flt1)\n",
        "print(type(flt1))\n",
        "\n",
        "flt1 = -3.1415\n",
        "print(flt1)\n",
        "print(type(flt1))"
      ],
      "metadata": {
        "colab": {
          "base_uri": "https://localhost:8080/"
        },
        "id": "lD9PlrMSxM6e",
        "outputId": "7a0e819b-199a-47c5-a797-adce5badcf5a"
      },
      "execution_count": null,
      "outputs": [
        {
          "output_type": "stream",
          "name": "stdout",
          "text": [
            "3.1415\n",
            "<class 'float'>\n",
            "-3.1415\n",
            "<class 'float'>\n"
          ]
        }
      ]
    },
    {
      "cell_type": "code",
      "source": [
        "# Complex : Combination of integer or float and imagenary number (+ve or -ve) integer or float is called as compex\n",
        "\n",
        "cmplx1 = 2 + 3j\n",
        "print(cmplx1)\n",
        "print(type(cmplx1))\n",
        "\n",
        "cmplx1 = -2 - 3j\n",
        "print(cmplx1)\n",
        "print(type(cmplx1))\n"
      ],
      "metadata": {
        "colab": {
          "base_uri": "https://localhost:8080/"
        },
        "id": "EjYPiq69xzPr",
        "outputId": "ddd8b565-4e75-4d57-c370-5a338e47b67d"
      },
      "execution_count": null,
      "outputs": [
        {
          "output_type": "stream",
          "name": "stdout",
          "text": [
            "(2+3j)\n",
            "<class 'complex'>\n",
            "(-2-3j)\n",
            "<class 'complex'>\n"
          ]
        }
      ]
    },
    {
      "cell_type": "code",
      "source": [
        "# Boolean : True and False\n",
        "\n",
        "bool1 = True\n",
        "print(bool1)\n",
        "print(type(bool1))\n",
        "\n",
        "bool1 = False\n",
        "print(bool1)\n",
        "print(type(bool1))"
      ],
      "metadata": {
        "colab": {
          "base_uri": "https://localhost:8080/"
        },
        "id": "KnlSzq0gymiz",
        "outputId": "4034c1eb-8f51-4204-a241-0805b2a8f43b"
      },
      "execution_count": null,
      "outputs": [
        {
          "output_type": "stream",
          "name": "stdout",
          "text": [
            "True\n",
            "<class 'bool'>\n",
            "False\n",
            "<class 'bool'>\n"
          ]
        }
      ]
    },
    {
      "cell_type": "code",
      "source": [
        "# String\n",
        "# any combination inside single quotes\n",
        "# any combination inside double quotes\n",
        "# any combination inside triple single quotes\n",
        "# any combination inside triple doublr quotes\n",
        "\n",
        "\n",
        "str1 = 'Python Programming'\n",
        "print(str1)\n",
        "print(type(str1))\n",
        "\n",
        "str1 = \"Python Programming\"\n",
        "print(str1)\n",
        "print(type(str1))\n",
        "\n",
        "str1 = '''Python Programming'''\n",
        "print(str1)\n",
        "print(type(str1))\n",
        "\n",
        "str1 = \"\"\"Python Programming\"\"\"\n",
        "print(str1)\n",
        "print(type(str1))"
      ],
      "metadata": {
        "colab": {
          "base_uri": "https://localhost:8080/"
        },
        "id": "BMITIHOVzIaz",
        "outputId": "abba8283-167b-47b5-e1b9-ca3f0a3d8f14"
      },
      "execution_count": null,
      "outputs": [
        {
          "output_type": "stream",
          "name": "stdout",
          "text": [
            "Python Programming\n",
            "<class 'str'>\n",
            "Python Programming\n",
            "<class 'str'>\n",
            "Python Programming\n",
            "<class 'str'>\n",
            "Python Programming\n",
            "<class 'str'>\n"
          ]
        }
      ]
    },
    {
      "cell_type": "code",
      "source": [
        "\n",
        "str1 = '!@#$%^&*()'\n",
        "print(str1)\n",
        "print(type(str1))\n",
        "\n",
        "str1 = \"QW#%$&*(*))_+YIINK:\"\n",
        "print(str1)\n",
        "print(type(str1))\n",
        "\n",
        "str1 = '''Lion Tiger'''\n",
        "print(str1)\n",
        "print(type(str1))\n",
        "\n",
        "str1 = \"\"\"Python Programming\"\"\"\n",
        "print(str1)\n",
        "print(type(str1))"
      ],
      "metadata": {
        "colab": {
          "base_uri": "https://localhost:8080/"
        },
        "id": "Ki6K3b9O0J3E",
        "outputId": "9eeab75d-061d-43dd-82f8-c374353e0bda"
      },
      "execution_count": null,
      "outputs": [
        {
          "output_type": "stream",
          "name": "stdout",
          "text": [
            "!@#$%^&*()\n",
            "<class 'str'>\n",
            "QW#%$&*(*))_+YIINK:\n",
            "<class 'str'>\n",
            "Lion Tiger\n",
            "<class 'str'>\n",
            "Python Programming\n",
            "<class 'str'>\n"
          ]
        }
      ]
    },
    {
      "cell_type": "code",
      "source": [
        "str1 = \"\"\"My name is \"Anuurag A Edlabadkar\". I live in 'Pune'.\"\"\"\n",
        "print(str1)\n",
        "print(type(str1))\n",
        "\n",
        "str1 = '''My name is \"Anuurag A Edlabadkar\". I live in 'Pune'.'''\n",
        "print(str1)\n",
        "print(type(str1))"
      ],
      "metadata": {
        "colab": {
          "base_uri": "https://localhost:8080/"
        },
        "id": "QVN95s-u1klE",
        "outputId": "efaf47ae-a1d8-416d-c9ef-50c191f96838"
      },
      "execution_count": null,
      "outputs": [
        {
          "output_type": "stream",
          "name": "stdout",
          "text": [
            "My name is \"Anuurag A Edlabadkar\". I live in 'Pune'.\n",
            "<class 'str'>\n",
            "My name is \"Anuurag A Edlabadkar\". I live in 'Pune'.\n",
            "<class 'str'>\n"
          ]
        }
      ]
    },
    {
      "cell_type": "code",
      "source": [
        "# List\n",
        "# 1. List is represented by square bracket []\n",
        "# 2. List is mutable\n",
        "\n",
        "\n",
        "\n",
        "lst1 = [12,23,34,45,56,67,78,89,90]\n",
        "print(lst1)\n",
        "print(type(lst1))"
      ],
      "metadata": {
        "colab": {
          "base_uri": "https://localhost:8080/"
        },
        "id": "_AvgFoPO4aBE",
        "outputId": "6abd3db4-b921-4786-b887-52e8bf6c0d9c"
      },
      "execution_count": null,
      "outputs": [
        {
          "output_type": "stream",
          "name": "stdout",
          "text": [
            "[12, 23, 34, 45, 56, 67, 78, 89, 90]\n",
            "<class 'list'>\n"
          ]
        }
      ]
    },
    {
      "cell_type": "code",
      "source": [
        "# Tuple\n",
        "# 1. Tuple is represented by circular bracket ()\n",
        "# 2. Tuple is immutable\n",
        "\n",
        "\n",
        "\n",
        "tup1 = (1,2,3,4,5,6,7,8,9)\n",
        "print(tup1)\n",
        "print(type(tup1))"
      ],
      "metadata": {
        "colab": {
          "base_uri": "https://localhost:8080/"
        },
        "id": "2P07Pu2F5SU9",
        "outputId": "83719888-6bbd-4de1-e458-39f71cb0b52f"
      },
      "execution_count": null,
      "outputs": [
        {
          "output_type": "stream",
          "name": "stdout",
          "text": [
            "(1, 2, 3, 4, 5, 6, 7, 8, 9)\n",
            "<class 'tuple'>\n"
          ]
        }
      ]
    },
    {
      "cell_type": "code",
      "source": [
        "# Set\n",
        "# 1. Set is combination of unique values\n",
        "# 2. Set is collection of unordered element\n",
        "# 3. Set is represented by curly brackets\n",
        "# 4. Set is mutable\n",
        "\n",
        "set1 = {'a','b','c','D','E','F',1,2,3,'!','@','#','a','b','c','D','E','F',1,2,3,'!','@','#',}\n",
        "print(set1)\n",
        "print(type(set1))"
      ],
      "metadata": {
        "colab": {
          "base_uri": "https://localhost:8080/"
        },
        "id": "HszQRd1P55qG",
        "outputId": "c3f2b0e1-ee8c-4e79-b9bc-92403cb375c2"
      },
      "execution_count": null,
      "outputs": [
        {
          "output_type": "stream",
          "name": "stdout",
          "text": [
            "{1, 2, '#', 3, 'b', 'c', 'a', 'F', '!', '@', 'E', 'D'}\n",
            "<class 'set'>\n"
          ]
        }
      ]
    },
    {
      "cell_type": "code",
      "source": [
        "set1 = {True, False, 'a','b','c','D','E','F',0,1,2,3,'!','@','#', 'True','False'}\n",
        "print(set1)\n",
        "print(type(set1))"
      ],
      "metadata": {
        "colab": {
          "base_uri": "https://localhost:8080/"
        },
        "id": "QJS2VCpm-ePf",
        "outputId": "46d1041e-020a-4e93-841c-a48e0c587611"
      },
      "execution_count": null,
      "outputs": [
        {
          "output_type": "stream",
          "name": "stdout",
          "text": [
            "{False, True, 2, 3, '#', 'b', 'c', 'a', 'F', '!', 'True', '@', 'E', 'D', 'False'}\n",
            "<class 'set'>\n"
          ]
        }
      ]
    },
    {
      "cell_type": "code",
      "source": [
        "dict1 = {'a':'apple',\n",
        "         'b':'banana',\n",
        "         'c':'cherries'}"
      ],
      "metadata": {
        "id": "fgNXrCKa_YmF"
      },
      "execution_count": null,
      "outputs": []
    },
    {
      "cell_type": "code",
      "source": [
        "print(dict1)\n",
        "print(type(dict1))"
      ],
      "metadata": {
        "colab": {
          "base_uri": "https://localhost:8080/"
        },
        "id": "cKfpqL2F_lcs",
        "outputId": "f3758da4-343b-49c0-ad4a-3835809f8b44"
      },
      "execution_count": null,
      "outputs": [
        {
          "output_type": "stream",
          "name": "stdout",
          "text": [
            "{'a': 'apple', 'b': 'banana', 'c': 'cherries'}\n",
            "<class 'dict'>\n"
          ]
        }
      ]
    }
  ]
}