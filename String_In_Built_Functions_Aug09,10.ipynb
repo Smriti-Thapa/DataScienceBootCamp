{
  "nbformat": 4,
  "nbformat_minor": 0,
  "metadata": {
    "colab": {
      "provenance": [],
      "authorship_tag": "ABX9TyMlF5CGfaTKBniUUPvkZLSD",
      "include_colab_link": true
    },
    "kernelspec": {
      "name": "python3",
      "display_name": "Python 3"
    },
    "language_info": {
      "name": "python"
    }
  },
  "cells": [
    {
      "cell_type": "markdown",
      "metadata": {
        "id": "view-in-github",
        "colab_type": "text"
      },
      "source": [
        "<a href=\"https://colab.research.google.com/github/Smriti-Thapa/DataScienceBootCamp/blob/main/String_In_Built_Functions_Aug09%2C10.ipynb\" target=\"_parent\"><img src=\"https://colab.research.google.com/assets/colab-badge.svg\" alt=\"Open In Colab\"/></a>"
      ]
    },
    {
      "cell_type": "code",
      "execution_count": null,
      "metadata": {
        "colab": {
          "base_uri": "https://localhost:8080/"
        },
        "id": "Plmbns4SSK2j",
        "outputId": "8cc11750-b116-490d-b3de-e180c81101e3"
      },
      "outputs": [
        {
          "output_type": "stream",
          "name": "stdout",
          "text": [
            "HloWrd\n"
          ]
        }
      ],
      "source": [
        "temp_str= \"Hello World\"\n",
        "print(temp_str[::2])\n",
        "#string slicing [string:stop:step]"
      ]
    },
    {
      "cell_type": "code",
      "source": [
        "dir(temp_str)"
      ],
      "metadata": {
        "colab": {
          "base_uri": "https://localhost:8080/"
        },
        "id": "egEJGLx3S3tu",
        "outputId": "77c95a3d-50be-49e6-8681-89e4d930bb7c"
      },
      "execution_count": null,
      "outputs": [
        {
          "output_type": "execute_result",
          "data": {
            "text/plain": [
              "['__add__',\n",
              " '__class__',\n",
              " '__contains__',\n",
              " '__delattr__',\n",
              " '__dir__',\n",
              " '__doc__',\n",
              " '__eq__',\n",
              " '__format__',\n",
              " '__ge__',\n",
              " '__getattribute__',\n",
              " '__getitem__',\n",
              " '__getnewargs__',\n",
              " '__gt__',\n",
              " '__hash__',\n",
              " '__init__',\n",
              " '__init_subclass__',\n",
              " '__iter__',\n",
              " '__le__',\n",
              " '__len__',\n",
              " '__lt__',\n",
              " '__mod__',\n",
              " '__mul__',\n",
              " '__ne__',\n",
              " '__new__',\n",
              " '__reduce__',\n",
              " '__reduce_ex__',\n",
              " '__repr__',\n",
              " '__rmod__',\n",
              " '__rmul__',\n",
              " '__setattr__',\n",
              " '__sizeof__',\n",
              " '__str__',\n",
              " '__subclasshook__',\n",
              " 'capitalize',\n",
              " 'casefold',\n",
              " 'center',\n",
              " 'count',\n",
              " 'encode',\n",
              " 'endswith',\n",
              " 'expandtabs',\n",
              " 'find',\n",
              " 'format',\n",
              " 'format_map',\n",
              " 'index',\n",
              " 'isalnum',\n",
              " 'isalpha',\n",
              " 'isascii',\n",
              " 'isdecimal',\n",
              " 'isdigit',\n",
              " 'isidentifier',\n",
              " 'islower',\n",
              " 'isnumeric',\n",
              " 'isprintable',\n",
              " 'isspace',\n",
              " 'istitle',\n",
              " 'isupper',\n",
              " 'join',\n",
              " 'ljust',\n",
              " 'lower',\n",
              " 'lstrip',\n",
              " 'maketrans',\n",
              " 'partition',\n",
              " 'removeprefix',\n",
              " 'removesuffix',\n",
              " 'replace',\n",
              " 'rfind',\n",
              " 'rindex',\n",
              " 'rjust',\n",
              " 'rpartition',\n",
              " 'rsplit',\n",
              " 'rstrip',\n",
              " 'split',\n",
              " 'splitlines',\n",
              " 'startswith',\n",
              " 'strip',\n",
              " 'swapcase',\n",
              " 'title',\n",
              " 'translate',\n",
              " 'upper',\n",
              " 'zfill']"
            ]
          },
          "metadata": {},
          "execution_count": 2
        }
      ]
    },
    {
      "cell_type": "code",
      "source": [
        "#takes 1st character of string to upper case\n",
        "temp_str= \"hello world\"\n",
        "print(temp_str.capitalize())"
      ],
      "metadata": {
        "colab": {
          "base_uri": "https://localhost:8080/"
        },
        "id": "539qr3_wTlou",
        "outputId": "38ca18ac-9206-4c5c-f2c1-2ad5ead37de0"
      },
      "execution_count": null,
      "outputs": [
        {
          "output_type": "stream",
          "name": "stdout",
          "text": [
            "Hello world\n"
          ]
        }
      ]
    },
    {
      "cell_type": "code",
      "source": [
        "#returns a string where all characters are lower case\n",
        "temp_str= \"hello world\"\n",
        "print(temp_str.casefold())"
      ],
      "metadata": {
        "colab": {
          "base_uri": "https://localhost:8080/"
        },
        "id": "vLTrHGVsUe-u",
        "outputId": "59cb6928-f3c5-4405-d952-bf2b79d47433"
      },
      "execution_count": null,
      "outputs": [
        {
          "output_type": "stream",
          "name": "stdout",
          "text": [
            "hello world\n"
          ]
        }
      ]
    },
    {
      "cell_type": "code",
      "source": [
        "#Increases length of string by adding whatever  character is mentioned if not by default fills by space\n",
        "temp_str= \"hello world\"\n",
        "print(temp_str.center(18,\"?\"))"
      ],
      "metadata": {
        "colab": {
          "base_uri": "https://localhost:8080/"
        },
        "id": "wvve1pegU34W",
        "outputId": "edb1b4a1-e085-476d-9979-8e8c75cd21c3"
      },
      "execution_count": null,
      "outputs": [
        {
          "output_type": "stream",
          "name": "stdout",
          "text": [
            "???hello world????\n"
          ]
        }
      ]
    },
    {
      "cell_type": "code",
      "source": [
        "#Returns how many times the substring appears in the given range, by default picks full string\n",
        "#Count function is case sensitive\n",
        "temp_str= \"hello world!! Hello Hello, how is it going?\".casefold()\n",
        "print(temp_str.count(\"hello\"))"
      ],
      "metadata": {
        "colab": {
          "base_uri": "https://localhost:8080/"
        },
        "id": "dVtoa76SXMY_",
        "outputId": "c7ed7da1-9094-454d-b437-4a70b6b52109"
      },
      "execution_count": null,
      "outputs": [
        {
          "output_type": "stream",
          "name": "stdout",
          "text": [
            "3\n"
          ]
        }
      ]
    },
    {
      "cell_type": "code",
      "source": [
        "#How to give range\n",
        "#count(value, start, end)\n",
        "temp_str1=\"hello world!! Hello hello, how is it going?\"\n",
        "print(temp_str1.count(\"hello\",2))"
      ],
      "metadata": {
        "colab": {
          "base_uri": "https://localhost:8080/"
        },
        "id": "bu_MvBAqXxNP",
        "outputId": "2bfb5465-4201-4bc6-b0b0-9e7ab766141d"
      },
      "execution_count": null,
      "outputs": [
        {
          "output_type": "stream",
          "name": "stdout",
          "text": [
            "1\n"
          ]
        }
      ]
    },
    {
      "cell_type": "code",
      "source": [
        "#returns True and False on the basis\n",
        "temp_str=\"hello world!! Hello hello, how is it going?\"\n",
        "#print(temp_str.endswith('ing?'))\n",
        "#print(temp_str.endswith(\"o\",0,5))\n",
        "print(temp_str.endswith(\"going\",0,len(temp_str)-1))"
      ],
      "metadata": {
        "colab": {
          "base_uri": "https://localhost:8080/"
        },
        "id": "uTOaXY_2bWSG",
        "outputId": "11ac2b0f-e6cf-4a64-f2cd-71ebe567e540"
      },
      "execution_count": null,
      "outputs": [
        {
          "output_type": "stream",
          "name": "stdout",
          "text": [
            "True\n"
          ]
        }
      ]
    },
    {
      "cell_type": "code",
      "source": [
        "temp_str=\"hello world!! Hello hello, how is it going?\"\n",
        "print(temp_str.find(\"how\"))"
      ],
      "metadata": {
        "colab": {
          "base_uri": "https://localhost:8080/"
        },
        "id": "DOyhOTEkdp84",
        "outputId": "22c8fb6e-c5e7-419e-870d-8ec52760e334"
      },
      "execution_count": null,
      "outputs": [
        {
          "output_type": "stream",
          "name": "stdout",
          "text": [
            "27\n"
          ]
        }
      ]
    },
    {
      "cell_type": "code",
      "source": [
        "temp_str=\"hello my name is {fname}, I am a {position}!\"\n",
        "print(temp_str)\n",
        "print(temp_str.format(fname=\"Smriti\",position=\"Data Scientist\"))"
      ],
      "metadata": {
        "colab": {
          "base_uri": "https://localhost:8080/"
        },
        "id": "aaIE_Rmob-eY",
        "outputId": "3d92a4c2-c0aa-4a5e-deac-b2acd312ba80"
      },
      "execution_count": null,
      "outputs": [
        {
          "output_type": "stream",
          "name": "stdout",
          "text": [
            "hello my name is {fname}, I am a {position}!\n",
            "hello my name is Smriti, I am a Data Scientist!\n"
          ]
        }
      ]
    },
    {
      "cell_type": "code",
      "source": [
        "temp_str=\"hello my name is {0}, I am a {1}!\"\n",
        "print(temp_str.format(\"Smriti\",\"Data Scientist\"))"
      ],
      "metadata": {
        "colab": {
          "base_uri": "https://localhost:8080/"
        },
        "id": "g5ukDJRHhTqa",
        "outputId": "5fc9bbc8-c09e-4f43-b83a-2cd650ba4f66"
      },
      "execution_count": null,
      "outputs": [
        {
          "output_type": "stream",
          "name": "stdout",
          "text": [
            "hello my name is Smriti, I am a Data Scientist!\n"
          ]
        }
      ]
    },
    {
      "cell_type": "code",
      "source": [
        "#Functions jumped\n",
        "#1 format map\n",
        "#2 expandtabs"
      ],
      "metadata": {
        "id": "jVSljuiLhgzR"
      },
      "execution_count": null,
      "outputs": []
    },
    {
      "cell_type": "code",
      "source": [
        "#replica of find function\n",
        "temp_str=\"hello my name is abc, I am a xyz!\"\n",
        "temp_str.index(\"I\")"
      ],
      "metadata": {
        "colab": {
          "base_uri": "https://localhost:8080/"
        },
        "id": "hdyF7sAIh2mR",
        "outputId": "fd9718a2-74c0-4856-9724-e3492d7b9165"
      },
      "execution_count": null,
      "outputs": [
        {
          "output_type": "execute_result",
          "data": {
            "text/plain": [
              "22"
            ]
          },
          "metadata": {},
          "execution_count": 45
        }
      ]
    },
    {
      "cell_type": "code",
      "source": [
        "temp=\"hello123\"\n",
        "temp1=\"hello123 hello123\"\n",
        "print(temp.isalnum())\n",
        "print(temp1.isalnum())"
      ],
      "metadata": {
        "colab": {
          "base_uri": "https://localhost:8080/"
        },
        "id": "97Qfajqiim4T",
        "outputId": "df0da0ec-9465-4628-e205-8de2e27139d7"
      },
      "execution_count": null,
      "outputs": [
        {
          "output_type": "stream",
          "name": "stdout",
          "text": [
            "True\n",
            "False\n"
          ]
        }
      ]
    },
    {
      "cell_type": "code",
      "source": [
        "temp=\"hello\"\n",
        "print(temp.isalpha())"
      ],
      "metadata": {
        "colab": {
          "base_uri": "https://localhost:8080/"
        },
        "id": "vMPww6JxkAny",
        "outputId": "0bfb0de1-bf4a-4f4c-bab2-d542bd356274"
      },
      "execution_count": null,
      "outputs": [
        {
          "output_type": "stream",
          "name": "stdout",
          "text": [
            "True\n"
          ]
        }
      ]
    },
    {
      "cell_type": "code",
      "source": [
        "temp=\"hello\"\n",
        "temp_1= \"4567\"\n",
        "print(temp.isdecimal())\n",
        "print(temp_1.isdecimal())"
      ],
      "metadata": {
        "colab": {
          "base_uri": "https://localhost:8080/"
        },
        "id": "tpOUBJ4GkHky",
        "outputId": "d4a5aed8-ebaa-4b09-9ca7-0980b5c35bd7"
      },
      "execution_count": null,
      "outputs": [
        {
          "output_type": "stream",
          "name": "stdout",
          "text": [
            "False\n",
            "True\n"
          ]
        }
      ]
    },
    {
      "cell_type": "code",
      "source": [
        "temp_1= \"4567\"\n",
        "print(temp.isdigit())"
      ],
      "metadata": {
        "colab": {
          "base_uri": "https://localhost:8080/"
        },
        "id": "QERN6F47lCd6",
        "outputId": "2294f9ab-9749-4b6e-98c5-3206ee665393"
      },
      "execution_count": null,
      "outputs": [
        {
          "output_type": "stream",
          "name": "stdout",
          "text": [
            "False\n"
          ]
        }
      ]
    },
    {
      "cell_type": "code",
      "source": [
        "unicode_0= \"\\u0030\"\n",
        "print(unicode_0.isdecimal())"
      ],
      "metadata": {
        "colab": {
          "base_uri": "https://localhost:8080/"
        },
        "id": "xPcv1_-RmqET",
        "outputId": "1e5e2409-c8dc-405d-bbca-57849daee3b6"
      },
      "execution_count": null,
      "outputs": [
        {
          "output_type": "stream",
          "name": "stdout",
          "text": [
            "True\n"
          ]
        }
      ]
    },
    {
      "cell_type": "markdown",
      "source": [
        "August 10- Continued"
      ],
      "metadata": {
        "id": "TJ0xgIH0Zycx"
      }
    },
    {
      "cell_type": "code",
      "source": [
        "temp_str=\"\\u00B2\"\n",
        "print(\"km\\u00B2\")\n",
        "print(temp_str.isdecimal())\n",
        "print(temp_str.isdigit())"
      ],
      "metadata": {
        "colab": {
          "base_uri": "https://localhost:8080/"
        },
        "id": "6nROT7JGZ1ZA",
        "outputId": "915b774c-1271-4a06-e759-db6cc9144ee8"
      },
      "execution_count": null,
      "outputs": [
        {
          "output_type": "stream",
          "name": "stdout",
          "text": [
            "km²\n",
            "False\n",
            "True\n"
          ]
        }
      ]
    },
    {
      "cell_type": "code",
      "source": [
        "temp_str=\"Hello World\"\n",
        "print(temp_str.isidentifier())\n",
        "am= \"abba\"\n",
        "print(am.isidentifier())"
      ],
      "metadata": {
        "colab": {
          "base_uri": "https://localhost:8080/"
        },
        "id": "_E2GVSrdbIoa",
        "outputId": "cda9e88c-f701-4b12-b627-55f34fd0cdb1"
      },
      "execution_count": null,
      "outputs": [
        {
          "output_type": "stream",
          "name": "stdout",
          "text": [
            "False\n",
            "True\n"
          ]
        }
      ]
    },
    {
      "cell_type": "code",
      "source": [
        "temp_str=\"Hello WORLD\"\n",
        "temp_str2=\"hello world1234\"\n",
        "print(temp_str.islower())\n",
        "print(temp_str2.islower())"
      ],
      "metadata": {
        "colab": {
          "base_uri": "https://localhost:8080/"
        },
        "id": "QdSAtxCpb3Yr",
        "outputId": "0e98dc80-ffa8-441a-df4c-ea819bf22bcb"
      },
      "execution_count": null,
      "outputs": [
        {
          "output_type": "stream",
          "name": "stdout",
          "text": [
            "False\n",
            "True\n"
          ]
        }
      ]
    },
    {
      "cell_type": "code",
      "source": [
        "temp_str=\"Hello WORLD\"\n",
        "temp_str2=\" \"\n",
        "print(temp_str.isspace())\n",
        "print(temp_str2.isspace())"
      ],
      "metadata": {
        "colab": {
          "base_uri": "https://localhost:8080/"
        },
        "id": "jLHFGecDdp1a",
        "outputId": "234ef623-e07f-4001-e020-9fafb27ab79c"
      },
      "execution_count": null,
      "outputs": [
        {
          "output_type": "stream",
          "name": "stdout",
          "text": [
            "False\n",
            "True\n"
          ]
        }
      ]
    },
    {
      "cell_type": "code",
      "source": [
        "temp_str=\"Hello WORLD\"\n",
        "temp_str2=\"Hello World \"\n",
        "print(temp_str.istitle())\n",
        "print(temp_str2.istitle())"
      ],
      "metadata": {
        "colab": {
          "base_uri": "https://localhost:8080/"
        },
        "id": "MIQh4UVqeEOQ",
        "outputId": "3d1d0f00-759e-4a4a-bcec-c71675c61200"
      },
      "execution_count": null,
      "outputs": [
        {
          "output_type": "stream",
          "name": "stdout",
          "text": [
            "False\n",
            "True\n"
          ]
        }
      ]
    },
    {
      "cell_type": "code",
      "source": [
        "temp_str=\"Hello WORLD\"\n",
        "temp_str2=\"HELLO WORLD123 \"\n",
        "print(temp_str.isupper())\n",
        "print(temp_str2.isupper())"
      ],
      "metadata": {
        "colab": {
          "base_uri": "https://localhost:8080/"
        },
        "id": "7dBpC5cYfQ-b",
        "outputId": "512142e4-c5e1-4db3-adf1-b15beedee6a4"
      },
      "execution_count": null,
      "outputs": [
        {
          "output_type": "stream",
          "name": "stdout",
          "text": [
            "False\n",
            "True\n"
          ]
        }
      ]
    },
    {
      "cell_type": "code",
      "source": [
        "list_temp=[\"Hello\",\"World\", \"how\",\"are\",\"you\",\"1111\"]"
      ],
      "metadata": {
        "colab": {
          "base_uri": "https://localhost:8080/"
        },
        "id": "-VzNMZWYgQ-P",
        "outputId": "7118e496-335c-455d-a02a-6b911da68337"
      },
      "execution_count": null,
      "outputs": [
        {
          "output_type": "stream",
          "name": "stdout",
          "text": [
            "Hello#World#how#are#you#1111\n"
          ]
        }
      ]
    },
    {
      "cell_type": "code",
      "source": [
        "temp=\"   Hello  \"\n",
        "print(temp.lstrip())"
      ],
      "metadata": {
        "colab": {
          "base_uri": "https://localhost:8080/"
        },
        "id": "y0tWCsHph6Pi",
        "outputId": "6d4ac88f-f6e7-4b31-88c8-8023fceb8719"
      },
      "execution_count": null,
      "outputs": [
        {
          "output_type": "stream",
          "name": "stdout",
          "text": [
            "Hello  \n"
          ]
        }
      ]
    },
    {
      "cell_type": "code",
      "source": [
        "temp2=\"           Hello            \"\n",
        "print(temp2.rstrip())"
      ],
      "metadata": {
        "colab": {
          "base_uri": "https://localhost:8080/"
        },
        "id": "Jr7QFUz1lj1j",
        "outputId": "74a0cf20-812e-48c8-ffd5-2ebd134e5ee2"
      },
      "execution_count": null,
      "outputs": [
        {
          "output_type": "stream",
          "name": "stdout",
          "text": [
            "           Hello\n"
          ]
        }
      ]
    },
    {
      "cell_type": "code",
      "source": [],
      "metadata": {
        "id": "TZ-gWgJamRTa"
      },
      "execution_count": null,
      "outputs": []
    },
    {
      "cell_type": "code",
      "source": [
        "temp1=\"i could eat apples all day\"\n",
        "print(temp1.partition(\"apples\"))"
      ],
      "metadata": {
        "colab": {
          "base_uri": "https://localhost:8080/"
        },
        "id": "PD91bTJhj0_B",
        "outputId": "c0b91d2e-6e0e-48c9-eb9f-21e4a94c3b21"
      },
      "execution_count": null,
      "outputs": [
        {
          "output_type": "stream",
          "name": "stdout",
          "text": [
            "('i could eat ', 'apples', ' all day')\n"
          ]
        }
      ]
    },
    {
      "cell_type": "code",
      "source": [
        "temp_str=\"i could eat apples all day\"\n",
        "temp_str.replace('could','could not').replace('apples','mangoes')"
      ],
      "metadata": {
        "colab": {
          "base_uri": "https://localhost:8080/",
          "height": 35
        },
        "id": "gzfPkdoMk0QT",
        "outputId": "2f5dcff8-aac6-4edd-a293-14998304354e"
      },
      "execution_count": null,
      "outputs": [
        {
          "output_type": "execute_result",
          "data": {
            "text/plain": [
              "'i could not eat mangoes all day'"
            ],
            "application/vnd.google.colaboratory.intrinsic+json": {
              "type": "string"
            }
          },
          "metadata": {},
          "execution_count": 30
        }
      ]
    },
    {
      "cell_type": "code",
      "source": [
        "temp_str=\"i could eat apples all day, every day\"\n",
        "temp_str.split(\"apples\")"
      ],
      "metadata": {
        "colab": {
          "base_uri": "https://localhost:8080/"
        },
        "id": "2xrKvtZ5mTzM",
        "outputId": "1abcc8fe-f185-4f7a-8bf6-5b0991dfcdd5"
      },
      "execution_count": null,
      "outputs": [
        {
          "output_type": "execute_result",
          "data": {
            "text/plain": [
              "['i could eat ', ' all day, every day']"
            ]
          },
          "metadata": {},
          "execution_count": 36
        }
      ]
    },
    {
      "cell_type": "markdown",
      "source": [],
      "metadata": {
        "id": "c7QioQ95n5oZ"
      }
    }
  ]
}