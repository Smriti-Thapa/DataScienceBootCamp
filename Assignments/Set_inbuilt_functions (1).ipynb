{
  "nbformat": 4,
  "nbformat_minor": 0,
  "metadata": {
    "colab": {
      "provenance": []
    },
    "kernelspec": {
      "name": "python3",
      "display_name": "Python 3"
    },
    "language_info": {
      "name": "python"
    }
  },
  "cells": [
    {
      "cell_type": "code",
      "execution_count": null,
      "metadata": {
        "id": "jioiosEASssl"
      },
      "outputs": [],
      "source": [
        "#set inbuilt functions"
      ]
    },
    {
      "cell_type": "code",
      "source": [
        "# Adding elements to set\n",
        "set_1 = {1, 2, 3}\n",
        "set_1.add(4)"
      ],
      "metadata": {
        "id": "kHqUrauyVevf"
      },
      "execution_count": 12,
      "outputs": []
    },
    {
      "cell_type": "code",
      "source": [
        "set1 = {1, 2, 3}\n",
        "set2 = {3, 4, 5}\n",
        "\n",
        "# Union of two sets\n",
        "union = set1.union(set2)\n",
        "\n",
        "# Intersection of two sets\n",
        "intersection = set1.intersection(set2)\n",
        "\n",
        "# Difference between two sets\n",
        "difference = set1.difference(set2)\n",
        "\n",
        "# Check if a set is a subset of another\n",
        "is_subset = set1.issubset(set2)\n",
        "\n",
        "# Check if a set is a superset of another\n",
        "is_superset = set1.issuperset(set2)\n",
        "\n",
        "# Check for disjoint sets (no common elements)\n",
        "is_disjoint = set1.isdisjoint(set2)\n",
        "\n",
        "# Check if an element is in the set\n",
        "contains = 3 in set1\n"
      ],
      "metadata": {
        "id": "lwjlUMHEVkSw"
      },
      "execution_count": null,
      "outputs": []
    },
    {
      "cell_type": "code",
      "source": [
        "my_set = {1, 2, 3}\n",
        "\n",
        "# Length of the set\n",
        "length = len(my_set)\n",
        "\n",
        "# Check if an element is in the set\n",
        "contains = 2 in my_set\n"
      ],
      "metadata": {
        "id": "o8mOh96eVlYw"
      },
      "execution_count": null,
      "outputs": []
    },
    {
      "cell_type": "code",
      "source": [
        "my_set = {1, 2, 3}\n",
        "\n",
        "# Convert set to list\n",
        "set_to_list = list(my_set)\n",
        "\n",
        "# Convert set to tuple\n",
        "set_to_tuple = tuple(my_set)\n"
      ],
      "metadata": {
        "id": "MgUT6CyVVvhH"
      },
      "execution_count": null,
      "outputs": []
    }
  ]
}