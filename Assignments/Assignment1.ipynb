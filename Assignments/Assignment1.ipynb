{
  "nbformat": 4,
  "nbformat_minor": 0,
  "metadata": {
    "colab": {
      "provenance": []
    },
    "kernelspec": {
      "name": "python3",
      "display_name": "Python 3"
    },
    "language_info": {
      "name": "python"
    }
  },
  "cells": [
    {
      "cell_type": "code",
      "execution_count": null,
      "metadata": {
        "id": "LcwTiYIjOs-G"
      },
      "outputs": [],
      "source": [
        "#1.A company decided to give bonus of 5% to employee if his/her year of service is more than 5 years.\n",
        "#Ask user for their salary and year of service and print the net bonus amount."
      ]
    },
    {
      "cell_type": "code",
      "source": [
        "Salary=float(input(\"Please enter your salary:\"))\n",
        "Serv=float(input(\"Please enter your year of service:\"))\n",
        "if Serv>=5:\n",
        "  net_bonus=(5/100)*Salary\n",
        "  print('Your net bonus is $',net_bonus)"
      ],
      "metadata": {
        "id": "8o80_EwUPHKo",
        "colab": {
          "base_uri": "https://localhost:8080/"
        },
        "outputId": "ebb33b63-7efe-4afc-e6be-76b8b42ec696"
      },
      "execution_count": 10,
      "outputs": [
        {
          "output_type": "stream",
          "name": "stdout",
          "text": [
            "Please enter your salary:500\n",
            "Please enter your year of service:8\n",
            "Your net bonus is $ 25.0\n"
          ]
        }
      ]
    },
    {
      "cell_type": "code",
      "source": [
        "#2.Take values of length and breadth of a rectangle from user and check if it is square or not."
      ],
      "metadata": {
        "id": "Bq2eHn1LRLOR"
      },
      "execution_count": null,
      "outputs": []
    },
    {
      "cell_type": "code",
      "source": [
        "l=float(input(\"Please enter the length of the rectangle:\"))\n",
        "b=float(input(\"Please enter the breadth of the rectangle:\"))\n",
        "if l==b:\n",
        "  print (\"This is a square\")\n",
        "else:\n",
        "  print(\"This is not a square\")"
      ],
      "metadata": {
        "colab": {
          "base_uri": "https://localhost:8080/"
        },
        "id": "5qvtrgqyRPpx",
        "outputId": "5a10b4bb-ba74-4e6b-c1de-97ddd3f9e5f4"
      },
      "execution_count": null,
      "outputs": [
        {
          "output_type": "stream",
          "name": "stdout",
          "text": [
            "Please enter te length of the rectangle:7\n",
            "Please enter te breadth of the rectangle:7\n",
            "This is a square\n"
          ]
        }
      ]
    },
    {
      "cell_type": "code",
      "source": [
        "#3.Take two int values from user and print greatest among them."
      ],
      "metadata": {
        "id": "YO5nj9GVSDG4"
      },
      "execution_count": null,
      "outputs": []
    },
    {
      "cell_type": "code",
      "source": [
        "int1=float(input(\"Please enter the 1st value:\"))\n",
        "int2=float(input(\"Please enter the 2nd value:\"))\n",
        "if int1>int2:\n",
        "  print(int1,\"is greater than\",int2)\n",
        "elif int2>int1:\n",
        "  print(int2,\"is greater than\",int1)\n",
        "else:\n",
        "  print(\"Both values are equal\")"
      ],
      "metadata": {
        "colab": {
          "base_uri": "https://localhost:8080/"
        },
        "id": "VLJVeS83SGXN",
        "outputId": "e5a23400-9caa-4cf7-f5cb-e7b9866cceaa"
      },
      "execution_count": null,
      "outputs": [
        {
          "output_type": "stream",
          "name": "stdout",
          "text": [
            "Please enter the 1st value:7\n",
            "Please enter the 2nd value:7\n",
            "Both values are equal\n"
          ]
        }
      ]
    },
    {
      "cell_type": "code",
      "source": [
        "#4.A shop will give discount of 10% if the cost of purchased quantity is more than 1000.\n",
        "#Ask user for quantity\n",
        "#Suppose, one unit will cost 100.\n",
        "#Judge and print total cost for user."
      ],
      "metadata": {
        "id": "aKMzL-WSTJcE"
      },
      "execution_count": null,
      "outputs": []
    },
    {
      "cell_type": "code",
      "source": [
        "Qty=float(input(\"Enter the quantity:\"))\n",
        "cost= Qty*100\n",
        "if cost>1000:\n",
        "  dis=10/100*cost\n",
        "  Total=cost-dis\n",
        "  print('Total cost is $',Total)\n",
        "else:\n",
        "  print('Total cost is $',cost)\n",
        "\n"
      ],
      "metadata": {
        "colab": {
          "base_uri": "https://localhost:8080/"
        },
        "id": "9OjrPeEVTPzy",
        "outputId": "2d9a2236-e8dd-43e5-fae9-b339c119bfc0"
      },
      "execution_count": null,
      "outputs": [
        {
          "output_type": "stream",
          "name": "stdout",
          "text": [
            "Enter the quantity:7\n",
            "Total cost is $ 700.0\n"
          ]
        }
      ]
    },
    {
      "cell_type": "code",
      "source": [
        "#5.A school has following rules for grading system:\n",
        "#a. Below 25 - F\n",
        "#b. 25 to 45 - E\n",
        "#c. 45 to 50 - D\n",
        "#d. 50 to 60 - C\n",
        "#e. 60 to 80 - B\n",
        "#f. Above 80 - A\n",
        "#Ask user to enter marks and print the corresponding grade."
      ],
      "metadata": {
        "id": "04UlF5DxWe5q"
      },
      "execution_count": null,
      "outputs": []
    },
    {
      "cell_type": "code",
      "source": [
        "mark1=float(input(\"Please enter your marks:\"))\n",
        "if mark1<25:\n",
        "  print('Grade:F')\n",
        "elif mark1>=25:\n",
        "  if mark1>=25 and mark1<45:\n",
        "    print('Grade:E')\n",
        "  elif mark1>=45 and mark1<50:\n",
        "    print('Grade:D')\n",
        "  elif mark1>=50 and mark1<60:\n",
        "   print('Grade:C')\n",
        "  elif mark1>=60 and mark1<80:\n",
        "    print('Grade:B')\n",
        "  elif mark1>=80:\n",
        "    print('Grade:A')\n"
      ],
      "metadata": {
        "colab": {
          "base_uri": "https://localhost:8080/"
        },
        "id": "jYZlHo25WsxM",
        "outputId": "148536d9-0c22-4cbd-a2ca-5e7550191b9f"
      },
      "execution_count": null,
      "outputs": [
        {
          "output_type": "stream",
          "name": "stdout",
          "text": [
            "Please enter your marks:79\n",
            "Grade:B\n"
          ]
        }
      ]
    },
    {
      "cell_type": "code",
      "source": [
        "#6.Take input of age of 3 people by user and determine oldest and youngest among them."
      ],
      "metadata": {
        "id": "TBGTWuMyYrbl"
      },
      "execution_count": null,
      "outputs": []
    },
    {
      "cell_type": "code",
      "source": [
        "age1=float(input(\"Please enter first person's age:\"))\n",
        "age2=float(input(\"Please enter second person's age:\"))\n",
        "age3=float(input(\"Please enter third person's age:\"))\n",
        "if age1>age2 and age1>age3:\n",
        "  print('First person with age',age1,'is the oldest')\n",
        "if age2>age1 and age2>age3:\n",
        "  print('Second person with age',age2,'is the oldest')\n",
        "if age3>age1 and age3>age2:\n",
        "  print('Third person with age',age3,'is the oldest')\n",
        "if age1<age2 and age1<age3:\n",
        "  print('First person with age',age1,'is the youngest')\n",
        "if age2<age1 and age2<age3:\n",
        "  print('Second person with age',age2,'is the youngest')\n",
        "if age3<age1 and age3<age2:\n",
        "  print('Third person with age',age3,'is the youngest')"
      ],
      "metadata": {
        "colab": {
          "base_uri": "https://localhost:8080/"
        },
        "id": "XbgL40EqY-pN",
        "outputId": "8af2a196-f1fe-4183-ef8a-0b541de2cd54"
      },
      "execution_count": null,
      "outputs": [
        {
          "output_type": "stream",
          "name": "stdout",
          "text": [
            "Please enter first person's age:12\n",
            "Please enter second person's age:56\n",
            "Please enter third person's age:34\n",
            "Second person with age 56.0 is the oldest\n",
            "First person with age 12.0 is the youngest\n"
          ]
        }
      ]
    },
    {
      "cell_type": "code",
      "source": [
        "#7.Write a program to print absolute value of a number entered by user. E.g.-\n",
        "#INPUT: 1        OUTPUT: 1\n",
        "#INPUT: -1        OUTPUT: 1"
      ],
      "metadata": {
        "id": "djN_rT4-dwVG"
      },
      "execution_count": null,
      "outputs": []
    },
    {
      "cell_type": "code",
      "source": [
        "Abs=float(input(\"Please a number:\"))\n",
        "if Abs<0:\n",
        "  print('Absolute value of Abs :',Abs*-1)\n",
        "else:\n",
        "  print('Absolute value of Abs :',Abs)"
      ],
      "metadata": {
        "colab": {
          "base_uri": "https://localhost:8080/"
        },
        "id": "FGw9qqInd9ao",
        "outputId": "d398fb50-14cd-47fa-b621-5448f662a6f2"
      },
      "execution_count": null,
      "outputs": [
        {
          "output_type": "stream",
          "name": "stdout",
          "text": [
            "Please a number:-8.5\n",
            "Absolute value of Abs : 8.5\n"
          ]
        }
      ]
    },
    {
      "cell_type": "code",
      "source": [
        "#8.A student will not be allowed to sit in exam if his/her attendence is less than 75%.\n",
        "#Take following input from user\n",
        "#Number of classes held\n",
        "#Number of classes attended.\n",
        "#And print\n",
        "#percentage of class attended\n",
        "#Is student is allowed to sit in exam or not."
      ],
      "metadata": {
        "id": "QLcf7AZsf0sU"
      },
      "execution_count": null,
      "outputs": []
    },
    {
      "cell_type": "code",
      "source": [
        "num_cl=float(input('Enter number of classes held'))\n",
        "num_att=float(input('Enter number of classes attended'))\n",
        "perc = (num_att/num_cl)* 100\n",
        "print (perc)\n",
        "if perc >= 75:\n",
        "  print('Student is allowed to sit in exam')\n",
        "else:\n",
        "  print('Student is not allowed to sit in exam')\n"
      ],
      "metadata": {
        "colab": {
          "base_uri": "https://localhost:8080/"
        },
        "id": "Qac8E_DzgA3N",
        "outputId": "b061cd04-af84-466e-8bf0-9e2dac3f787d"
      },
      "execution_count": null,
      "outputs": [
        {
          "output_type": "stream",
          "name": "stdout",
          "text": [
            "Enter number of classes held50\n",
            "Enter number of classes attended40\n",
            "80.0\n",
            "Student is allowed to sit in exam\n"
          ]
        }
      ]
    },
    {
      "cell_type": "code",
      "source": [
        "#9.Modify the above question to allow student to sit if he/she has medical cause.\n",
        "#Ask user if he/she has medical cause or not ( 'Y' or 'N' ) and print accordingly."
      ],
      "metadata": {
        "id": "2D36cZpXiY-v"
      },
      "execution_count": null,
      "outputs": []
    },
    {
      "cell_type": "code",
      "source": [
        "inp=(input('Do you have a medical condition?Enter \\'Y\\' for yes and \\'N\\' for no:')).lower()\n",
        "if inp=='y':\n",
        "  print('You can sit in the exam')\n",
        "elif inp=='n':\n",
        "  print('You cannot sit in the exam')\n",
        "else:\n",
        "  print('invalid input')"
      ],
      "metadata": {
        "colab": {
          "base_uri": "https://localhost:8080/"
        },
        "id": "JgRde3WHMj7c",
        "outputId": "e0028075-9973-427b-e34d-5c235d26a60f"
      },
      "execution_count": 9,
      "outputs": [
        {
          "output_type": "stream",
          "name": "stdout",
          "text": [
            "Do you have a medical condition?Enter 'Y' for yes and 'N' for no:y\n",
            "You can sit in the exam\n"
          ]
        }
      ]
    }
  ]
}